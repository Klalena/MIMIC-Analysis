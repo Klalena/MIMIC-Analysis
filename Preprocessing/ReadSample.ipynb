{
 "cells": [
  {
   "cell_type": "code",
   "execution_count": 31,
   "metadata": {},
   "outputs": [],
   "source": [
    "import pandas as pd\n",
    "import gzip\n",
    "import shutil\n",
    "import random"
   ]
  },
  {
   "cell_type": "code",
   "execution_count": 32,
   "metadata": {},
   "outputs": [],
   "source": [
    "#Read in a random sample of the file. \n",
    "#With this you get every nth line of the data. Filename is the filename. Sep and compression are as named.\n",
    "def read_data(n, filename, compression, sep):\n",
    "    df = pd.read_csv(\n",
    "         filename,\n",
    "         compression = compression,\n",
    "         sep = sep,\n",
    "         header=0, \n",
    "         skiprows=lambda i: i % n != 0 #Check if the row is a multiple of 1000. If so, read it in!\n",
    "    )\n",
    "    return(df)"
   ]
  },
  {
   "cell_type": "code",
   "execution_count": 33,
   "metadata": {},
   "outputs": [],
   "source": [
    "#Read every 1000th row of data.\n",
    "twitter_sample = read_data(1000, 'full_dataset.tsv.gz', 'gzip', '\\t')"
   ]
  },
  {
   "cell_type": "code",
   "execution_count": 35,
   "metadata": {},
   "outputs": [],
   "source": [
    "#Output the data as a new dataset.\n",
    "twitter_sample.to_csv('sample_tweets.csv')"
   ]
  }
 ],
 "metadata": {
  "kernelspec": {
   "display_name": "Python 3",
   "language": "python",
   "name": "python3"
  },
  "language_info": {
   "codemirror_mode": {
    "name": "ipython",
    "version": 3
   },
   "file_extension": ".py",
   "mimetype": "text/x-python",
   "name": "python",
   "nbconvert_exporter": "python",
   "pygments_lexer": "ipython3",
   "version": "3.7.3"
  }
 },
 "nbformat": 4,
 "nbformat_minor": 4
}
